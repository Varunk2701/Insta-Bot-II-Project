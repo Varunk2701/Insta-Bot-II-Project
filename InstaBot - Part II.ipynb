{
 "cells": [
  {
   "cell_type": "markdown",
   "metadata": {},
   "source": [
    "# InstaBot Part - II"
   ]
  },
  {
   "cell_type": "code",
   "execution_count": 1,
   "metadata": {},
   "outputs": [],
   "source": [
    "from selenium import webdriver                                                    #import web Driver \n",
    "from selenium.webdriver.support.ui import WebDriverWait                           #To use implcit and explicit wait\n",
    "from selenium.webdriver.support import expected_conditions as EC                  #use in explicitly wait\n",
    "from selenium.webdriver.common.by import By                                       #to select the attribute by Class,link_text\n",
    "from selenium.common.exceptions import NoSuchElementException,TimeoutException    #import exceptions\n",
    "from bs4 import BeautifulSoup as bs\n",
    "from selenium.webdriver.common.keys import Keys                                   #provide keys in the keyboard like RETURN, F1, ALT\n",
    "import time                                                                       #it is used in wait\n",
    "import matplotlib.pyplot as plt                                                   #to plot the graph\n",
    "import pandas as pd                                                               #for the dataframes and csv files\n",
    "import numpy as np\n",
    "from datetime import datetime, timedelta, date"
   ]
  },
  {
   "cell_type": "code",
   "execution_count": 2,
   "metadata": {},
   "outputs": [
    {
     "name": "stdout",
     "output_type": "stream",
     "text": [
      "Log In Successful!\n"
     ]
    }
   ],
   "source": [
    "driver = webdriver.Chrome(executable_path = 'chromedriver')                               #create a driver object for Chrome\n",
    "wait = WebDriverWait(driver,15)                                                           #create Wait object for explicitly wait\n",
    "driver.get('https://www.instagram.com/')                                                  #go to the instagram webpage\n",
    "driver.maximize_window()                                                                  #maximize the browser window\n",
    "\n",
    "def login(u,p):\n",
    "    username = driver.find_element_by_name('username').send_keys(u)                       #find the username input and send the username\n",
    "    password = driver.find_element_by_name('password')                                    #find the password input\n",
    "    password.send_keys(p)                                                                 #send the password\n",
    "    password.submit()                                                                     #press on the login button with type submit\n",
    "    not_now = wait.until(EC.element_to_be_clickable(\n",
    "        (By.XPATH,'//div[@class=\"piCib\"]//div[@class=\"mt3GC\"]//button[@class=\"aOOlW   HoLwm \"]'))) #find not now button for turning notifications on\n",
    "    not_now.click()                                                                       #press the not now button\n",
    "\n",
    "username = 'prasansha___'\n",
    "password = ''\n",
    "login(username,password)                                                    #call the login function and pass the username and password as arguments\n",
    "print('Log In Successful!')                                                               #print message after succesful"
   ]
  },
  {
   "cell_type": "code",
   "execution_count": 3,
   "metadata": {},
   "outputs": [],
   "source": [
    "def search(q):\n",
    "    time.sleep(2)\n",
    "    search = driver.find_element_by_xpath('//input[@placeholder=\"Search\"]')               #get the search bar input element\n",
    "    query = q\n",
    "    search.send_keys(query)                                                               #search for the query in the search box\n",
    "    query_result = wait.until(EC.presence_of_all_elements_located(                        #wait for the search result list to load and get the account handle of the queries listed\n",
    "                                       (By.XPATH, '//div[@class=\"fuqBx\"]//a//span[@class=\"Ap253\"]')))            \n",
    "    for i in query_result:\n",
    "        if i.get_attribute('innerHTML')==query:                                           #open account handle only if the account handle exactly matches the query\n",
    "            i.click()                                                                     #click on the userhandle\n",
    "            break                                                                         #once the correct handle matching to the query is found, break the loop\n",
    "    else:                                                                                 #if the loop terminates normally, means without any matching user handles, clear the search box\n",
    "        cross_btn = driver.find_element_by_class_name('coreSpriteSearchClear').click()    #clear the search bar\n",
    "        print('Handle Not Found')                                                         #print a message if no matching handles are found\n",
    "    \n",
    "def go_to_home():\n",
    "    time.sleep(3)\n",
    "    home = wait.until(EC.element_to_be_clickable((By.CLASS_NAME,'s4Iyt')))                #find the instagram button to go to home page\n",
    "    home.click()                                                                          #click on it"
   ]
  },
  {
   "cell_type": "markdown",
   "metadata": {},
   "source": [
    "### Question 1\n",
    "1. Now your friend has followed a lot of different food bloggers, he needs to analyse the habits of these bloggers.\n",
    "    1. From the list of instagram handles you obtained when you searched ‘food’ in previous project. Open the first 10 handles and find the top 5 which have the highest number of followers\n",
    "    2. Now Find the number of posts these handles have done in the previous 3 days.\n",
    "    3. Depict this information using a suitable graph."
   ]
  },
  {
   "cell_type": "code",
   "execution_count": 4,
   "metadata": {},
   "outputs": [],
   "source": [
    "def handles_from_keywords(keyword):\n",
    "    search = driver.find_element_by_xpath('//input[@placeholder=\"Search\"]')                       #get the search bar input element\n",
    "    search.send_keys(keyword)                                                                     #search for keyword in the search bar\n",
    "    list_searched = wait.until(EC.presence_of_all_elements_located(\n",
    "                                   (By.XPATH, '//div[@class=\"fuqBx\"]//a//span[@class=\"Ap253\"]'))) #get the list displayed\n",
    "    list_of_handles = []\n",
    "    for i in list_searched:                                                                        \n",
    "        if i.get_attribute('innerHTML')[0]!= '#' and ' ' not in i.get_attribute('innerHTML'):     #show the names of the keyword handles only and not the hashtags or loactions\n",
    "            list_of_handles.append(i.get_attribute('innerHTML'))                                                   \n",
    "\n",
    "    cross_btn = driver.find_element_by_class_name('coreSpriteSearchClear').click()                #clear the search bar\n",
    "    \n",
    "    return list_of_handles                                                                        #return the list of handles displayed as the results for the keyword\n",
    "\n"
   ]
  },
  {
   "cell_type": "code",
   "execution_count": 5,
   "metadata": {},
   "outputs": [],
   "source": [
    "def number_of_followers(handle_list):                                                          #function returns a dictionary with keys as usernames and values as number of followers of that handle\n",
    "    handles_and_followers = {}                                                                 #dictionary of handles and the corresponding number of followers\n",
    "    for i in handle_list:\n",
    "        time.sleep(2)\n",
    "        search(i)                                                                              #search for the handles from the list received as parameter\n",
    "        time.sleep(2)\n",
    "        profile_followers = wait.until(EC.element_to_be_clickable((By.XPATH,'//section[@class=\"zwlfE\"]//a[@class=\"-nal3 \"]/span'))) #find the followers button\n",
    "        total = int(''.join(profile_followers.get_attribute('title').split(',')))              #find the total number of followers of the user\n",
    "        handles_and_followers[i] = total                                                       #assign username and number of followers as key value pair in the dictionary\n",
    "    go_to_home()                                                                               #go to home page\n",
    "    return handles_and_followers                                                               #return the created dictionary\n",
    "    "
   ]
  },
  {
   "cell_type": "code",
   "execution_count": 10,
   "metadata": {},
   "outputs": [],
   "source": [
    "def num_of_posts_in_past_days(handle_list,input_days):                                      #function returns a dictionary with usernames and the count of posts in certain days\n",
    "    today = date.today()                                                                    #get today's date\n",
    "    handles_and_posts = {}                                                                  #dictionary to store handles and keywords and number of posts in past three days as values\n",
    "    for i in handle_list:\n",
    "        count = 0                                                                           #initialise the count as zero\n",
    "        search(i)                                                                           #search for the handle  \n",
    "        post = wait.until(EC.presence_of_element_located((By.CLASS_NAME,'_9AhH0'))).click() #click on the first post\n",
    "        while True:\n",
    "            date_time = wait.until(EC.presence_of_element_located((By.XPATH,'//time[@class=\"_1o9PC Nzb55\"]'))) #get the date-time tag\n",
    "            y,m,d = map(int,(date_time.get_attribute('datetime').split('T')[0].split('-'))) #get the date-time attribute and convert it into the desired format and get the string format of the date of the post\n",
    "            post_date = date(y,m,d)                                                         #change the date into date-format that is imported\n",
    "            if (today-post_date).days <= input_days:                                        #if the difference in less than or equal to input_days\n",
    "                count+=1                                                                    #count the post\n",
    "                next_btn = wait.until(EC.element_to_be_clickable((By.CLASS_NAME,'coreSpriteRightPaginationArrow'))) #get the web element of the next button\n",
    "                next_btn.click()                                                            #click on the next button\n",
    "            else:                                                                           #break the loop as soon as days start increasing from 3 as there will be no more posts from 3 days ago after that\n",
    "                break\n",
    "        handles_and_posts[i] = count                                                        #key value pair is username and count of posts in past input days\n",
    "        cross = driver.find_element_by_xpath('//div[@class=\"                    Igw0E     IwRSH      eGOV_         _4EzTm                                                                                  BI4qX            qJPeX            fm1AK   TxciK yiMZG\"]')\n",
    "        cross.click()                                                                       #find the web element of the cross button and click it after the loop terminates\n",
    "    go_to_home()\n",
    "    return handles_and_posts                                                                #return the dictionary created"
   ]
  },
  {
   "cell_type": "markdown",
   "metadata": {},
   "source": [
    "### 1.1 From the list of instagram handles you obtained when you searched ‘food’ in previous project. Open the first 10 handles and find the top 5 which have the highest number of followers"
   ]
  },
  {
   "cell_type": "code",
   "execution_count": 7,
   "metadata": {},
   "outputs": [
    {
     "name": "stdout",
     "output_type": "stream",
     "text": [
      "_foodology___\n",
      "foodnetwork\n",
      "foodgod\n",
      "buzzfeedfood\n",
      "kolkatafoodie\n",
      "foodtalkindia\n",
      "food\n",
      "foodforthought_an\n",
      "food_pari\n",
      "yourfoodlab\n"
     ]
    }
   ],
   "source": [
    "food_handles = handles_from_keywords('food')                                               #call the handles from keywords function\n",
    "food_handles = food_handles[:10]                                                           #get the top 10 handles only\n",
    "for i in food_handles:\n",
    "    print(i)                                                                               #print the handle names"
   ]
  },
  {
   "cell_type": "code",
   "execution_count": 8,
   "metadata": {},
   "outputs": [
    {
     "name": "stdout",
     "output_type": "stream",
     "text": [
      "foodnetwork has 10300339 followers\n",
      "buzzfeedfood has 3730115 followers\n",
      "foodgod has 3592685 followers\n",
      "yourfoodlab has 1276006 followers\n",
      "foodtalkindia has 298153 followers\n"
     ]
    }
   ],
   "source": [
    "handles_and_followers = number_of_followers(food_handles)                                  #call the number_of_followers function and get the dictionary of usernames and the followers\n",
    "top_5_handles_and_followers = sorted(handles_and_followers.items(), key=lambda item: item[1], reverse = True)[:5] #get the top 5 most followed handles among the top 10\n",
    "acc_list = []                                                                              #top 5 handles from the keyword food\n",
    "for x,y in top_5_handles_and_followers:\n",
    "    acc_list.append(x)\n",
    "    print(x,'has',y,'followers')                                                           #print handles and corresponding followers"
   ]
  },
  {
   "cell_type": "markdown",
   "metadata": {},
   "source": [
    "### 1.2 Now Find the number of posts these handles have done in the previous 3 days."
   ]
  },
  {
   "cell_type": "code",
   "execution_count": 11,
   "metadata": {},
   "outputs": [
    {
     "name": "stdout",
     "output_type": "stream",
     "text": [
      "foodnetwork has 26 posts\n",
      "buzzfeedfood has 0 posts\n",
      "foodgod has 1 posts\n",
      "yourfoodlab has 6 posts\n",
      "foodtalkindia has 1 posts\n"
     ]
    }
   ],
   "source": [
    "top_5_acc_3_day_posts = num_of_posts_in_past_days(acc_list,3)                           #call the num_of_posts_in_past_days and get the dictionary and pass the handle list and number of days as 3 as arguments\n",
    "for x,y in top_5_acc_3_day_posts.items():\n",
    "    print(x,'has',y,'posts')                                                            #print the handle name and number of posts in past 3 days "
   ]
  },
  {
   "cell_type": "markdown",
   "metadata": {},
   "source": [
    "### 1.3 Depict this information using a suitable graph."
   ]
  },
  {
   "cell_type": "code",
   "execution_count": 12,
   "metadata": {},
   "outputs": [
    {
     "data": {
      "image/png": "[encoded data removed]",
      "text/plain": [
       "<Figure size 576x432 with 1 Axes>"
      ]
     },
     "metadata": {
      "needs_background": "light"
     },
     "output_type": "display_data"
    }
   ],
   "source": [
    "colors = plt.get_cmap('OrRd')(np.linspace(0, 1, 10))\n",
    "plt.subplots(figsize=(8,6))                                                         #size of the graph\n",
    "plt.bar([x for x,y in top_5_acc_3_day_posts.items()],[y for x,y in top_5_acc_3_day_posts.items()],color = colors,edgecolor = 'black') #bar graph\n",
    "plt.xlabel('Account Handles',fontsize = 12)                                         #x label of the graph\n",
    "plt.ylabel('Number of posts',fontsize = 12)                                         #y label of the graph\n",
    "plt.title('Handles vs Number of posts',fontsize = 15)                               #title of the graph\n",
    "plt.show()                                                                          #show the graph"
   ]
  },
  {
   "cell_type": "markdown",
   "metadata": {},
   "source": [
    "### Question 2\n",
    "1. Your friend also needs a list of hashtags that he should use in his posts.\n",
    "    1. Open the 5 handles you obtained in the last question, and scrape the content of the first 10 posts of each handle.\n",
    "    2. Prepare a list of all words used in all the scraped posts and calculate the frequency of each word.\n",
    "    3. Create a csv file with two columns : the word and its frequency\n",
    "    4. Now, find the hashtags that were most popular among these bloggers\n",
    "    5. Plot a Pie Chart of the top 5 hashtags obtained and the number of times they were used by these bloggers in the scraped posts."
   ]
  },
  {
   "cell_type": "code",
   "execution_count": 14,
   "metadata": {},
   "outputs": [],
   "source": [
    "def get_content_of_posts(handles_list,num_of_posts_to_scrape):                              #function that returns dictionary of usernames and list of contents of certain numbers\n",
    "    account_posts = {}                                                                      #dictionary will store usernames and contents of the posts\n",
    "    for i in handles_list:\n",
    "        search(i)                                                                           #search for the handle by calling the search function\n",
    "        account_posts[i] = []\n",
    "\n",
    "        post = wait.until(EC.presence_of_element_located((By.CLASS_NAME,'_9AhH0'))).click() #click on the first post\n",
    "        while True:\n",
    "            try:                                                                            #check if the post has any caption for it\n",
    "                content = wait.until(EC.presence_of_element_located((By.XPATH,'//li[@class=\"gElp9 rUo9f PpGvg \"]//div[@class=\"C4VMK\"]/span'))) #get the caption content of the post\n",
    "                account_posts[i].append(content.text)                                       #get the text in the content and append it in the list of contents of a specific user handle\n",
    "            except TimeoutException:                                                        #if there is no caption\n",
    "                pass                                                                        #pass and do nothing\n",
    "            next_btn = wait.until(EC.element_to_be_clickable((By.CLASS_NAME,'coreSpriteRightPaginationArrow'))) #get the web element of the next button\n",
    "            next_btn.click()                                                                #click on the next button\n",
    "            if len(account_posts[i]) == num_of_posts_to_scrape:                             #if ten posts are retrieved break the loop\n",
    "                break                                                                       #check for 10 posts is neccesary as post without any caption is not counted but total 10 posts are needed\n",
    "\n",
    "        cross = driver.find_element_by_xpath('//div[@class=\"                    Igw0E     IwRSH      eGOV_         _4EzTm                                                                                  BI4qX            qJPeX            fm1AK   TxciK yiMZG\"]')\n",
    "        cross.click()                                                                       #press the cross button and close the post dialog\n",
    "    go_to_home()                                                                            #return to home page by calling the go to home function\n",
    "    return account_posts\n"
   ]
  },
  {
   "cell_type": "markdown",
   "metadata": {},
   "source": [
    "### 2.1 Open the 5 handles you obtained in the last question, and scrape the content of the first 10 posts of each handle."
   ]
  },
  {
   "cell_type": "code",
   "execution_count": 15,
   "metadata": {},
   "outputs": [
    {
     "name": "stdout",
     "output_type": "stream",
     "text": [
      "\t\t\t\t foodnetwork \n",
      "\n",
      "----- POST 1 : What if we told you you could enjoy s'mores from the comfort of your home? @justataste shows you how to make this toasty berry-flavored riff on the classic (AND a s'mores dip!) in her Indoor S'mores 2 Ways class on the @FoodNetworkKitchen app. Click the link in our bio to watch today! \n",
      "\n",
      "----- POST 2 : Blackberry Hand Pies (with @kardeabrown)\n",
      "\n",
      "Raise your hand if want more than one of these adorable fruit pies! 🥧\n",
      "\n",
      "#DeliciousMissBrown > Sunday at 12|11c\n",
      "\n",
      "Save the recipe on the @FoodNetworkKitchen app. \n",
      "\n",
      "----- POST 3 : Recipe of the Day: Peach-Plum Galette 🍑Click the link in our bio to save the recipe on your @foodnetworkkitchen app! \n",
      "\n",
      "----- POST 4 : @GiadaDeLaurentiis' Homemade Tiny Gnocchi 😍\n",
      "\n",
      "Learn how Giada makes a special type of Sardinian gnocchi. They're light, fluffy and perfect with a simple shrimp sauce! 🍤🍤\n",
      "\n",
      "#GiadaAtHome > Saturdays @ 12|11c\n",
      "\n",
      "Save the recipe on the @FoodNetworkKitchen app. \n",
      "\n",
      "----- POST 5 : Class of the Day: Vegan Almond Macaroons 😇These chewy cookies are gluten-free AND vegan!⁠\n",
      ". . .⁠\n",
      "Click the link in our bio to take @joannebchang's class on the @FoodNetworkKitchen app. \n",
      "\n",
      "----- POST 6 : Spinach and Artichoke Chicken (with @thepioneerwoman)\n",
      "\n",
      "Your favorite creamy, cheesy dip just became the MAIN course!\n",
      "\n",
      "Catch more from @ThePioneerWoman > Saturdays at 10a|11c.\n",
      "\n",
      "Get her recipe on your @FoodNetworkKitchen app. \n",
      "\n",
      "----- POST 7 : How to Make Classic Pastry Cream (with @MissVivianWC)\n",
      "\n",
      "Pastry cream, or creme patissiere, is a vanilla custard thickened with egg yolks and cornstarch 😋Stuff it into eclairs, doughnuts and more for a creamy, sweet filling!\n",
      "\n",
      "Watch Viv use pastry cream to make Puff Pastry Cones with Berries and Cream LIVE Monday at 6|5c on the @FoodNetworkKitchen app 👍#VivsTips \n",
      "\n",
      "----- POST 8 : It's summer, it's hot and it's FRIDAY... so you know what that means? Frozen Watermelon Margaritas, of course 🍉🍉⁠\n",
      ". . .⁠\n",
      "Click the link in our bio to take @sarah.b.holden's class on your @FoodNetworkKitchen app and whip up a batch today! \n",
      "\n",
      "----- POST 9 : Vegetable Soba Noodle Salad can be vegan AND gluten-free with this tip from @danielleginet! ✨⁠⠀\n",
      ". . .⁠⠀\n",
      "Click the link in our bio to take her full class on the @foodnetworkkitchen app for more. \n",
      "\n",
      "----- POST 10 : How to Make a Caprese Bread Bowl 🍅\n",
      "\n",
      "Crusty bread bowls are just begging to be stuffed with gooey mozz, juicy tomatoes and fresh basil allll summer long.\n",
      "\n",
      "Save the recipe on your @FoodNetworkKitchen app! \n",
      "\n",
      "\n",
      "\n",
      "\n",
      "\n",
      "\t\t\t\t buzzfeedfood \n",
      "\n",
      "----- POST 1 : This place in Seattle serves tide-to-table shellfish! 😱Follow 👉@bringme for more foodie spots around the world! \n",
      "\n",
      "----- POST 2 : Are you ready to get bougie on a budget? You can get a Michelin star meal in Paris! 🇫🇷Follow 👉@bringme for more foodie adventures! \n",
      "\n",
      "----- POST 3 : Why aren't you following @bringme yet?! 🍜Follow @bringme for more foodie adventures! 🌍✈️ \n",
      "\n",
      "----- POST 4 : Brazil makes the cheesiest chili cheeseburgers! 😋🍔Follow @bringme for more! \n",
      "\n",
      "----- POST 5 : Move over Italy, Vancouver might have the world's best gelato! 🍨What's your favorite gelato flavor? Follow 👉@bringme for more mouthwatering adventures around the globe! 🌎 \n",
      "\n",
      "----- POST 6 : Sushi + sustainability = my dream come true! 🍣Follow @bringme for more foodie adventures around the world! ✈️\n",
      ".\n",
      ".\n",
      ".\n",
      ".\n",
      ".\n",
      "#bringme #portlandtravel #sushirestuarant #sushi #oregontravel #sustainability \n",
      "\n",
      "----- POST 7 : These are cheesecake tea cups and I'll take one of EVERYTHING. 😍🍰Follow @bringme for more foodie adventures! ✈️ \n",
      "\n",
      "----- POST 8 : This place serves pickle and beer flights with a southern twist! 🍻Follow @bringme for more foodie adventures all around the globe! ✈️ \n",
      "\n",
      "----- POST 9 : Cozy up at this hot chocolate café! They have over 50 different kinds! ☕️🍫Follow @bringme for more foodie adventures around the world! ✈️ \n",
      "\n",
      "----- POST 10 : Thanks for this dairy-free blueberry lime “cheesecake” recipe @goodful 😍🤤 \n",
      "\n",
      "\n",
      "\n",
      "\n",
      "\n",
      "\t\t\t\t foodgod \n",
      "\n",
      "----- POST 1 : Even Foodgod won’t try this!! Would you???⁣\n",
      "⁣\n",
      "⁣\n",
      "📹 Kwai/xiong881661 \n",
      "\n",
      "----- POST 2 : Would you eat it?? Tag a friend to gross them out!!!⁣ Also it’s already dead.. The sodium and potassium in the soy sauce causes it to move⁣\n",
      "⁣\n",
      "📹 @silliecyn \n",
      "\n",
      "----- POST 3 : BIG SURPRISE!! \n",
      "\n",
      "----- POST 4 : Are you trying Ice Jelly with me or NOT???⁣\n",
      "⁣\n",
      "⁣\n",
      "📹 @kuliner_lampung \n",
      "\n",
      "----- POST 5 : @EnjoyNoshMates new Watermelon 🍉 Fruit Jerky\n",
      "\n",
      "is the greatest thing since sliced bread 😍\n",
      "Go grab your own now at @Costco #NoshMatespartner #Costco \n",
      "\n",
      "----- POST 6 : Can you guess what it is??⁣\n",
      "⁣⁣\n",
      "⁣⁣\n",
      "📹 Kwai/ddtv1111 \n",
      "\n",
      "----- POST 7 : Giving away gift cards to your favorite restaurants 🍕 🍔 🍜 ... 🎰 Here’s your chance to win 👉🏻 My new game is now available to download (link in my bio) It’s free to play and free to download!! @celebrityslotsofficial\n",
      "#CelebritySlotsPartner #CelebritySlots ⁣\n",
      "#🎰📲 \n",
      "\n",
      "----- POST 8 : My cameo in the hottest video in Russia. Thanks @timatiofficial 🍭🔥🍬 \n",
      "\n",
      "----- POST 9 : On a scale from 1-10 how satisfying is this?! 😍⁣⁣🍜\n",
      "⁣⁣\n",
      "⁣\n",
      "📹 1912284641 (Kwai)⁣⁣ \n",
      "\n",
      "----- POST 10 : Missing the Cannes Film Festival!! What events are you missing out on?? \n",
      "\n",
      "\n",
      "\n",
      "\n",
      "\n",
      "\t\t\t\t yourfoodlab \n",
      "\n",
      "----- POST 1 : Anda Malai Kofta recipe is out on Facebook & YouTube!\n",
      "I had uploaded a 2 ways Malai Kofta recipe a couple of days back and I thought I could make a version of it using eggs. This is my version of Egg malai kofta for all you eggetarians out there! I paired it with laccha paratha and it goes really well with it. Do try the recipe over the weekend and share your views with us! Love you all ❤️\n",
      ".\n",
      ".\n",
      ".\n",
      ".\n",
      "#recipeoftheday #recipes #eggs #egglover #foodstagram #foodaholic #foodgasm #mumbaistreetfood #yummyinmytummy \n",
      "\n",
      "----- POST 2 : Super excited to go live with the amazing Dr. A! Tune in today at 7pm and join us :) \n",
      "\n",
      "----- POST 3 : Creamy Veg Soups- 3 ways by Chef @sanjyotkeer\n",
      "\n",
      ".\n",
      ".\n",
      ".\n",
      ".\n",
      "I love soups! This is my creamy soups 3 ways video, they are wholesome, soothing and really easy to make. 3 variants, Spinach, Brocolli & Mushrooms. Go with what is available or what you like. Try them out! I have kept the mushroom one chunky because I like it that way, you could go completely creamy on that. The Brocolli one surprisingly turns out to be really good and the spinach one is an all time favorite! Make your monsoon evenings better with some hot soothing soups! Cheers\n",
      ".\n",
      ".\n",
      ".\n",
      "#recipe #foodie #comfortfood #indinacuisine #streetfood \n",
      "\n",
      "----- POST 4 : Veg Hot & Sour Soup by Chef @sanjyotkeer\n",
      "\n",
      ".\n",
      ".\n",
      ".\n",
      ".\n",
      "I love hot & sour soup, in Mumbai I love the hot & sour soup at Yauatcha, House of Mandarin and a few more places. This one is really close to the authentic version (I really don’t believe in authenticity of food though) but this one is not the very desi types. Though I too did not have a few ingredients like black fungus, black vinegar and Chinese cooking wine (everything in my lab is finished and I cook with whatever I have) still this one tastes really good. I have mentioned enough substitutions for each ingredient. You can leave out the bamboo shoots, use only simple soy sauce instead of the combination of two, leave out sesame oil and use button mushrooms instead of shiitake mushrooms. I know you would say that soup mein fir bacha hi kya, but add in veggies you like, the main flavor here is of the way you prep it, I cook it with normal ingredients as well whenever something is not available! I hope you will like the recipe. Cheers!\n",
      ".\n",
      ".\n",
      ".\n",
      ".\n",
      "#recipe #foodie #indinacuisine #streetfood #foodporn #soup \n",
      "\n",
      "----- POST 5 : Veg Hot & Sour Soup Recipe video is out now on Facebook & YouTube!\n",
      "\n",
      "I love hot & sour soup, in Mumbai I love the hot & sour soup at @yauatchamumbai , @houseofmandarin a few more places. This one is really close to the authentic version (I really don’t believe in authenticity of food though) but this one is not the very desi types. Though I too did not have a few ingredients like black fungus, black vinegar and Chinese cooking wine (everything in my lab is finished and I cook with whatever I have) still this one tastes really good. I have mentioned enough substitutions for each ingredient. You can leave out the bamboo shoots, use only simple soy sauce instead of the combination of two, leave out sesame oil and use button mushrooms instead of shiitake mushrooms. I know you would say that soup mein fir bacha hi kya, but add in veggies you like, the main flavor here is of the way you prep it, I cook it with normal ingredients as well whenever something is not available! I hope you will like the recipe. Cheers!\n",
      ".\n",
      ".\n",
      ".\n",
      "#recipeoftheday #souprecipe #foodie #indinacuisine #foodstagram #foodiesofinstagram #foodforfoodies #foodaholic #foody #photography #canonphotography \n",
      "\n",
      "----- POST 6 : Malai Kofta - 2 Ways by Chef @sanjyotkeer\n",
      "\n",
      ".\n",
      ".\n",
      ".\n",
      ".\n",
      "#recipe #foodie #malai #indinacuisine #streetfood #comfortfood \n",
      "\n",
      "----- POST 7 : Combination Tawa Pulao by Chef @sanjyotkeer\n",
      "\n",
      ".\n",
      ".\n",
      ".\n",
      ".\n",
      ".\n",
      "I was thinking for 2 days just to name this recipe, I did not know what to call it and finally just named it combination tawa pulao. This is inspired from the Mumbai street style tawa pulao and the desi triple schezwan rice which is prepped with a combination of rice and noodles and that combination works perfectly! Just try this recipe and I am sure you will love it!\n",
      "I know a lot of you will say that don’t mix up anything to make new recipes, but believe me guys, this one is a must try!\n",
      ".\n",
      ".\n",
      "#recipe #foodie #indiancuisine #comfortfoor #sanjyotkeer \n",
      "\n",
      "----- POST 8 : Combination Tawa Pulao recipe is out now on Facebook & YouTube!\n",
      "I was thinking for 2 days just to name this recipe, I did not know what to call it and finally just named it combination tawa pulao. This is inspired from the Mumbai street style tawa pulao and the desi triple schezwan rice which is prepped with a combination of rice and noodles and that combination works perfectly! Just try this recipe and I am sure you will love it!\n",
      "I know a lot of you will say that don’t mix up anything to make new recipes, but believe me guys, this one is a must try!\n",
      ".\n",
      ".\n",
      ".\n",
      "#recipe #tava #foodie #foodporn #foodphotography #food #rice #noodles #monsoon #mumbaifoodie #mumbairains \n",
      "\n",
      "----- POST 9 : Manchow Soupy Noodles by Chef @sanjyotkeer\n",
      "\n",
      ".\n",
      ".\n",
      ".\n",
      ".\n",
      "I am a huge instant noodles person but I obviously can't have it everyday! It was raining yesterday evening and I got this crazy kick for soupy noodles. I instantly thought of this really simple soupy noodles and we shot this in a couple of hours. I made a vegetarian version of it, to make it non vegetarian you could add in some chicken and eggs. Make this super soothing soup on a rainy chilly evening with your loved one and enjoy! Take care people and keep the loving coming in :)\n",
      ".\n",
      ".\n",
      "#comfortfood #indiancuisine #streetfood #foodie #indochinese #recipes #sanjyotkeer \n",
      "\n",
      "----- POST 10 : Manchow Soupy Noodles recipe is out now on Facebook & YouTube! Check it out!\n",
      "\n",
      "I am a huge instant noodles person but I obviously can't have it everyday! It was raining yesterday evening and I got this crazy kick for soupy noodles. I instantly thought of this really simple soupy noodles and we shot this in a couple of hours. I made a vegetarian version of it, to make it non vegetarian you could add in some chicken and eggs. Make this super soothing soup on a chilly rainy evening with your loved one and enjoy!\n",
      "\n",
      "Take care people and keep the loving coming in :)\n",
      ".\n",
      ".\n",
      ".\n",
      "#recipes #recipeoftheday #foodporn #manchowsoup #monsoons #foodiesofinstagram #foodaholic #sanjyotkeer #mumbaistreetfood \n",
      "\n",
      "\n",
      "\n",
      "\n",
      "\n",
      "\t\t\t\t foodtalkindia \n",
      "\n",
      "----- POST 1 : Decadent, rich ice cream cakes ranging from a blueberry cheese cake to a coffee cabana, it’s what dreams are made of and @zoetdessert is making it come true for you. 10 of you lucky people can get your hands on a fabulous ice cream cake hamper by @zoetdessert . \n",
      "Here’s everything you need to know to win: \n",
      "1. Tell us what goes first, the ice cream or the cake? \n",
      "2. Tag an ice cream lover! \n",
      "3. Follow @zoetdessert and @foodtalkindia. \n",
      "P.S Contest closes on 18th July, Saturday, 4 PM. \n",
      "\n",
      "----- POST 2 : We are really enjoying @chicagopizzaofficial perfect DIY pizza kit and having fun crafting these sumptuous pizzas at home!\n",
      ".\n",
      "Priced at INR 799 for 3 pizza kits & INR 1099 for 5 pizza kits, it comes with super easy to follow instructions and customisable premium ingredients. This is definitely a steal!\n",
      ".\n",
      "All pizza kits are packed with utmost care and follow all hygiene protocols. Order online now from kit.chicagopizza.in or Whatsapp/Call 8802473828. \n",
      "\n",
      "----- POST 3 : Put on your pasta pants and bring your salted water to a boil—it's Mac n Cheese Day! Gooey, creamy mac and cheese will never be as healthy as a salad. But it can be healthier. #HappyMacnCheeseDay 🤤🧀\n",
      "\n",
      "We’ve got some insane upgrades for this classic comfort food:\n",
      "\n",
      "- Use whole wheat pasta.\n",
      "They give mac and cheese a heartier texture.\n",
      "\n",
      "- Add more greens.\n",
      "Get your daily dose of healthy greens by tossing them into cheesy pasta.\n",
      "\n",
      "- Pump up the flavour with roasted garlic.\n",
      "Rich and naturally creamy roasted garlic is a great way to make super satisfying mac and cheese without piling on too much cheese.\n",
      "\n",
      "- Amp up cheese sauce with some vegetable puree.\n",
      "Cut down on fat and add nutritional value by swapping out some of the cheese for a creamy squash puree.\n",
      "\n",
      "- Replace some of the cheese with yogurt.\n",
      "Mix yogurt with grated parmesan and garlic for an impossibly creamy, better-for-you sauce.\n",
      ".\n",
      ".\n",
      ".\n",
      "#MacnCheeseDay #EasyRecipe #macandcheese \n",
      "\n",
      "----- POST 4 : One comfort food which overcomes man-made borders and transcends the discord of the world as we know it - French Fries 🍟\n",
      "\n",
      "The fried potato has achieved greatness at home and overseas! Here are a few unique spinS on the crispy classic!\n",
      "\n",
      "#worldfrenchfryday #frenchfries \n",
      "\n",
      "----- POST 5 : Food For Thought: Always keep a Margarita and Tacos handy!\n",
      ".\n",
      ".\n",
      "#SaturdayMood #WeekendVibes \n",
      "\n",
      "----- POST 6 : Shrimp Chili Garlic Noodles\n",
      "\n",
      "In the kitchen with @sonalikagrover ( @thelittlefoodjournal )\n",
      "\n",
      "Ingredients:\n",
      "200g Noodles  \n",
      "1/2 cup of Mushrooms, Thinly Sliced\n",
      "5 Cloves of Garlic, Thinly Sliced\n",
      "5 Cloves of Garlic, Finely Chopped\n",
      "1 Cup of Shrimp\n",
      "1 + 1/2 Tablespoons of Olive Oil\n",
      "2 Tbsp Butter\n",
      "2 Tbsp Soy sauce\n",
      "3-4 Tbsp Oyster Sauce\n",
      "2 Tbsp Chopped Red Onion or Chives\n",
      "Salt to Taste\n",
      "Chilli Flakes to Taste\n",
      "\n",
      "Steps:\n",
      "1. Heat up the olive oil in a pan.\n",
      "2. Fry the thinly sliced garlic until golden brown. Keep this garlic oil aside.\n",
      "3. In a big pan, melt the butter.\n",
      "4. Then add your onion, mushroom, garlic & shrimp. Sauté these for a few minutes.\n",
      "5. Next, add your boiled noodles and mix well.\n",
      "6. Drizzle the soy sauce and oyster sauce.\n",
      "7. Add the garlic oil you kept aside in the beginning.\n",
      "8. Finally, add chilli flakes and salt to taste. \n",
      "\n",
      "----- POST 7 : It’s Piña Colada Day! 🍹🍍What better way to kick off the weekend than having a Pina Colada, the cocktails that's a symbol of some carefree fun. 💃🏻\n",
      ".\n",
      "The closest thing to being on the beach! Here goes an absolute delish recipe for the perfect Pina Colada:\n",
      ".\n",
      "INGREDIENTS\n",
      ".\n",
      "50 ml  rum\n",
      "50 ml  coconut milk\n",
      "1/3 cup fresh pineapple chunks, plus more for garnish \n",
      "splash pineapple juice\n",
      "1 cup ice\n",
      "Cherries for garnish\n",
      ".\n",
      "DIRECTIONS\n",
      ".\n",
      "Add rum, coconut milk, pineapple chunks, and juice to a blender with ice. Blend until smooth.\n",
      "Pour into a glass\n",
      "Garnish the glass with a pineapple chunk and a cherry.\n",
      "\n",
      "Picture credits: @vanillaandbean \n",
      "\n",
      "----- POST 8 : Korean seafood stew aka Haemul Sundubu Jigea\n",
      "\n",
      "In the kitchen with @iam_eshan\n",
      ".\n",
      "Ingredients\n",
      "2 cups chicken stock\n",
      "1 onion, cut lengthways\n",
      "1 inch ginger, cut into strips\n",
      "10 garlic cloves, cut lengthways\n",
      "1 Tablespoon Gochujang\n",
      "100 gms Kimchi\n",
      "1/2 large napa cabbage\n",
      "1 Tablespoon Dark Soy Sauce\n",
      "300 gms prawns\n",
      "200 gms squid\n",
      ".\n",
      "Method\n",
      "In a large pot, add chicken stock, onion, garlic and ginger.\n",
      "Let it come to a boil and stir in gochujang and kimchi, Stir well.\n",
      "Add Dark soy sauce and let the stew come to a boil.\n",
      "Add Cabbage and prawns to the stew and cook for 2 minutes.\n",
      "Add squid and cook for another 2 minutes and then turn off heat. Make sure to time this otherwise the squid will become chewy.\n",
      "Serve immediately with rice. \n",
      "\n",
      "----- POST 9 : #TalkHealth\n",
      "\n",
      "We all know it's a good idea to grab a snack after you hit the gym - but what, exactly, happens to your body if you don't?\n",
      "#fitnessmotivation #wednesdayworkout \n",
      "\n",
      "----- POST 10 : Think authentic oriental flavours , fresh produce and dishes being  prepared only once the order is received, @thaicratedelivery is your one-stop-shop for all things flavourful, tasty, healthy!\n",
      ".\n",
      "They strive to deliver consistent taste & quality every time. Open 7 days a week. From 12 noon to 8pm on weekdays and till 10pm from Friday to Sunday. Call on: 95828 45369 / 8800888826 and get your midweek fix of all things yum and delicious. \n",
      "\n",
      "\n",
      "\n",
      "\n",
      "\n"
     ]
    }
   ],
   "source": [
    "top_5_account_posts = get_content_of_posts(acc_list,10)                                 #call the get_content_of_posts and pass the top5 handles and 10 as the number of posts to scrape contents\n",
    "for x,y in top_5_account_posts.items():                                                 #for usernames and content in the dictionary\n",
    "    print('\\t\\t\\t\\t',x,'\\n')                                                            #print username\n",
    "    for i in range(len(y)):\n",
    "        print('----- POST',i+1,':',y[i],'\\n')                                           #print content of each of the top 10 posts\n",
    "    print('\\n\\n\\n')"
   ]
  },
  {
   "cell_type": "markdown",
   "metadata": {},
   "source": [
    "### 2.2 Prepare a list of all words used in all the scraped posts and calculate the frequency of each word."
   ]
  },
  {
   "cell_type": "code",
   "execution_count": 16,
   "metadata": {},
   "outputs": [
    {
     "name": "stdout",
     "output_type": "stream",
     "text": [
      "#DeliciousMissBrown\n",
      "#GiadaAtHome\n",
      "#VivsTips\n",
      "#bringme\n",
      "#portlandtravel\n",
      "#sushirestuarant\n",
      "#sushi\n",
      "#oregontravel\n",
      "#sustainability\n",
      "#NoshMatespartner\n",
      "#Costco\n",
      "#CelebritySlotsPartner\n",
      "#CelebritySlots\n",
      "#🎰📲\n",
      "#recipeoftheday\n",
      "#recipes\n",
      "#eggs\n",
      "#egglover\n",
      "#foodstagram\n",
      "#foodaholic\n",
      "#foodgasm\n",
      "#mumbaistreetfood\n",
      "#yummyinmytummy\n",
      "#recipe\n",
      "#foodie\n",
      "#comfortfood\n",
      "#indinacuisine\n",
      "#streetfood\n",
      "#recipe\n",
      "#foodie\n",
      "#indinacuisine\n",
      "#streetfood\n",
      "#foodporn\n",
      "#soup\n",
      "#recipeoftheday\n",
      "#souprecipe\n",
      "#foodie\n",
      "#indinacuisine\n",
      "#foodstagram\n",
      "#foodiesofinstagram\n",
      "#foodforfoodies\n",
      "#foodaholic\n",
      "#foody\n",
      "#photography\n",
      "#canonphotography\n",
      "#recipe\n",
      "#foodie\n",
      "#malai\n",
      "#indinacuisine\n",
      "#streetfood\n",
      "#comfortfood\n",
      "#recipe\n",
      "#foodie\n",
      "#indiancuisine\n",
      "#comfortfoor\n",
      "#sanjyotkeer\n",
      "#recipe\n",
      "#tava\n",
      "#foodie\n",
      "#foodporn\n",
      "#foodphotography\n",
      "#food\n",
      "#rice\n",
      "#noodles\n",
      "#monsoon\n",
      "#mumbaifoodie\n",
      "#mumbairains\n",
      "#comfortfood\n",
      "#indiancuisine\n",
      "#streetfood\n",
      "#foodie\n",
      "#indochinese\n",
      "#recipes\n",
      "#sanjyotkeer\n",
      "#recipes\n",
      "#recipeoftheday\n",
      "#foodporn\n",
      "#manchowsoup\n",
      "#monsoons\n",
      "#foodiesofinstagram\n",
      "#foodaholic\n",
      "#sanjyotkeer\n",
      "#mumbaistreetfood\n",
      "#HappyMacnCheeseDay\n",
      "#MacnCheeseDay\n",
      "#EasyRecipe\n",
      "#macandcheese\n",
      "#worldfrenchfryday\n",
      "#frenchfries\n",
      "#SaturdayMood\n",
      "#WeekendVibes\n",
      "#TalkHealth\n",
      "#fitnessmotivation\n",
      "#wednesdayworkout\n"
     ]
    }
   ],
   "source": [
    "hashtags = []                                                                 #store hashtags used\n",
    "for x,y in top_5_account_posts.items():\n",
    "    for post in y:                                                            #for every caption of the top 10 posts\n",
    "        data = post.split()                                                   #split the text of the caption\n",
    "        for word in data:\n",
    "            if '#' in word:                                                   #if hashtag in the word\n",
    "                hashtags.append(word[word.index('#'):])                       #append the word to the hashtags list\n",
    "for i in hashtags:                                                            #print the list of hashtags\n",
    "    print(i)"
   ]
  },
  {
   "cell_type": "code",
   "execution_count": 17,
   "metadata": {},
   "outputs": [
    {
     "name": "stdout",
     "output_type": "stream",
     "text": [
      "#DeliciousMissBrown 1\n",
      "#GiadaAtHome 1\n",
      "#VivsTips 1\n",
      "#bringme 1\n",
      "#portlandtravel 1\n",
      "#sushirestuarant 1\n",
      "#sushi 1\n",
      "#oregontravel 1\n",
      "#sustainability 1\n",
      "#NoshMatespartner 1\n",
      "#Costco 1\n",
      "#CelebritySlotsPartner 1\n",
      "#CelebritySlots 1\n",
      "#🎰📲 1\n",
      "#recipeoftheday 3\n",
      "#recipes 3\n",
      "#eggs 1\n",
      "#egglover 1\n",
      "#foodstagram 2\n",
      "#foodaholic 3\n",
      "#foodgasm 1\n",
      "#mumbaistreetfood 2\n",
      "#yummyinmytummy 1\n",
      "#recipe 5\n",
      "#foodie 7\n",
      "#comfortfood 3\n",
      "#indinacuisine 4\n",
      "#streetfood 4\n",
      "#foodporn 3\n",
      "#soup 1\n",
      "#souprecipe 1\n",
      "#foodiesofinstagram 2\n",
      "#foodforfoodies 1\n",
      "#foody 1\n",
      "#photography 1\n",
      "#canonphotography 1\n",
      "#malai 1\n",
      "#indiancuisine 2\n",
      "#comfortfoor 1\n",
      "#sanjyotkeer 3\n",
      "#tava 1\n",
      "#foodphotography 1\n",
      "#food 1\n",
      "#rice 1\n",
      "#noodles 1\n",
      "#monsoon 1\n",
      "#mumbaifoodie 1\n",
      "#mumbairains 1\n",
      "#indochinese 1\n",
      "#manchowsoup 1\n",
      "#monsoons 1\n",
      "#HappyMacnCheeseDay 1\n",
      "#MacnCheeseDay 1\n",
      "#EasyRecipe 1\n",
      "#macandcheese 1\n",
      "#worldfrenchfryday 1\n",
      "#frenchfries 1\n",
      "#SaturdayMood 1\n",
      "#WeekendVibes 1\n",
      "#TalkHealth 1\n",
      "#fitnessmotivation 1\n",
      "#wednesdayworkout 1\n"
     ]
    }
   ],
   "source": [
    "from collections import Counter                                               #for counting the frequency\n",
    "hashtag_freq = Counter(hashtags)                                              #call Counter to get the word and corresponding frequency\n",
    "for x in hashtag_freq:\n",
    "    print(x,hashtag_freq[x])                                                  #print word and corresponding frequency"
   ]
  },
  {
   "cell_type": "markdown",
   "metadata": {},
   "source": [
    "### 2.3 Create a csv file with two columns : the word and its frequency"
   ]
  },
  {
   "cell_type": "code",
   "execution_count": 18,
   "metadata": {},
   "outputs": [
    {
     "data": {
      "text/html": [
       "<div>\n",
       "<style scoped>\n",
       "    .dataframe tbody tr th:only-of-type {\n",
       "        vertical-align: middle;\n",
       "    }\n",
       "\n",
       "    .dataframe tbody tr th {\n",
       "        vertical-align: top;\n",
       "    }\n",
       "\n",
       "    .dataframe thead th {\n",
       "        text-align: right;\n",
       "    }\n",
       "</style>\n",
       "<table border=\"1\" class=\"dataframe\">\n",
       "  <thead>\n",
       "    <tr style=\"text-align: right;\">\n",
       "      <th></th>\n",
       "      <th>Word</th>\n",
       "      <th>Frequency</th>\n",
       "    </tr>\n",
       "  </thead>\n",
       "  <tbody>\n",
       "    <tr>\n",
       "      <th>0</th>\n",
       "      <td>#DeliciousMissBrown</td>\n",
       "      <td>1</td>\n",
       "    </tr>\n",
       "    <tr>\n",
       "      <th>1</th>\n",
       "      <td>#GiadaAtHome</td>\n",
       "      <td>1</td>\n",
       "    </tr>\n",
       "    <tr>\n",
       "      <th>2</th>\n",
       "      <td>#VivsTips</td>\n",
       "      <td>1</td>\n",
       "    </tr>\n",
       "    <tr>\n",
       "      <th>3</th>\n",
       "      <td>#bringme</td>\n",
       "      <td>1</td>\n",
       "    </tr>\n",
       "    <tr>\n",
       "      <th>4</th>\n",
       "      <td>#portlandtravel</td>\n",
       "      <td>1</td>\n",
       "    </tr>\n",
       "    <tr>\n",
       "      <th>...</th>\n",
       "      <td>...</td>\n",
       "      <td>...</td>\n",
       "    </tr>\n",
       "    <tr>\n",
       "      <th>57</th>\n",
       "      <td>#SaturdayMood</td>\n",
       "      <td>1</td>\n",
       "    </tr>\n",
       "    <tr>\n",
       "      <th>58</th>\n",
       "      <td>#WeekendVibes</td>\n",
       "      <td>1</td>\n",
       "    </tr>\n",
       "    <tr>\n",
       "      <th>59</th>\n",
       "      <td>#TalkHealth</td>\n",
       "      <td>1</td>\n",
       "    </tr>\n",
       "    <tr>\n",
       "      <th>60</th>\n",
       "      <td>#fitnessmotivation</td>\n",
       "      <td>1</td>\n",
       "    </tr>\n",
       "    <tr>\n",
       "      <th>61</th>\n",
       "      <td>#wednesdayworkout</td>\n",
       "      <td>1</td>\n",
       "    </tr>\n",
       "  </tbody>\n",
       "</table>\n",
       "<p>62 rows × 2 columns</p>\n",
       "</div>"
      ],
      "text/plain": [
       "                   Word  Frequency\n",
       "0   #DeliciousMissBrown          1\n",
       "1          #GiadaAtHome          1\n",
       "2             #VivsTips          1\n",
       "3              #bringme          1\n",
       "4       #portlandtravel          1\n",
       "..                  ...        ...\n",
       "57        #SaturdayMood          1\n",
       "58        #WeekendVibes          1\n",
       "59          #TalkHealth          1\n",
       "60   #fitnessmotivation          1\n",
       "61    #wednesdayworkout          1\n",
       "\n",
       "[62 rows x 2 columns]"
      ]
     },
     "execution_count": 18,
     "metadata": {},
     "output_type": "execute_result"
    }
   ],
   "source": [
    "word = []                                                                                     #word list\n",
    "freq = []                                                                                     #frequency list\n",
    "for x in hashtag_freq:\n",
    "    word.append(x)                                                                            #append words\n",
    "    freq.append(hashtag_freq[x])                                                              #append frequency\n",
    "dataset = pd.DataFrame({'Word':word,'Frequency':freq})                                        #make a dataframe of the words and frequencies\n",
    "dataset.to_csv('frequency.csv',index=False)                                                   #make a csv file\n",
    "dataset                                                                                       #print the dataset made"
   ]
  },
  {
   "cell_type": "markdown",
   "metadata": {},
   "source": [
    "### 2.4 Now, find the hashtags that were most popular among these bloggers"
   ]
  },
  {
   "cell_type": "code",
   "execution_count": 19,
   "metadata": {},
   "outputs": [
    {
     "name": "stdout",
     "output_type": "stream",
     "text": [
      "#foodie\n",
      "#recipe\n",
      "#streetfood\n",
      "#indinacuisine\n",
      "#recipeoftheday\n"
     ]
    }
   ],
   "source": [
    "top_5_words = dataset.loc[dataset['Frequency'].sort_values(ascending = False).index].head(5)['Word']           #get 5 most used hashtags\n",
    "top_5_words_freq = dataset.loc[dataset['Frequency'].sort_values(ascending = False).index].head(5)['Frequency'] #get frequency of top 5 most used hashtags\n",
    "for i in top_5_words:\n",
    "    print(i)                                                                                                   #print the top 5 most used hashtags"
   ]
  },
  {
   "cell_type": "markdown",
   "metadata": {},
   "source": [
    "### 2.5 Plot a Pie Chart of the top 5 hashtags obtained and the number of times they were used by these bloggers in the scraped posts."
   ]
  },
  {
   "cell_type": "code",
   "execution_count": 20,
   "metadata": {},
   "outputs": [
    {
     "data": {
      "image/png": "[encoded data removed]",
      "text/plain": [
       "<Figure size 432x432 with 1 Axes>"
      ]
     },
     "metadata": {},
     "output_type": "display_data"
    }
   ],
   "source": [
    "plt.subplots(figsize=(6,6))                                                                    #size of the graph\n",
    "plt.pie(top_5_words_freq,labels = top_5_words,autopct = '%.2f%%',textprops={'fontsize':13})    #pie graph\n",
    "plt.title('      Most used hashtags by food bloggers',fontsize = 17)                           #title of the graph\n",
    "plt.show()                                                                                     #show the graph"
   ]
  },
  {
   "cell_type": "markdown",
   "metadata": {},
   "source": [
    "### Question 3\n",
    "1. You need to also calculate average followers : likes ratio for the obtained handles.\n",
    "Followers : Likes ratio is calculated as follows:\n",
    "    1. Find out the likes of the top 10 posts of the 5 handles obtained earlier.\n",
    "    2. Calculate the average likes for a handle.\n",
    "    3. Divide the average likes obtained from the number of followers of the handle to get the average followers:like ratio of each handle.\n",
    "    4. Create a bar graph to depict the above obtained information."
   ]
  },
  {
   "cell_type": "code",
   "execution_count": 35,
   "metadata": {},
   "outputs": [],
   "source": [
    "def likes_of_posts(handle_list,num_of_posts):                                               #function that returns a dictionary of usernames and likes on given number of posts\n",
    "    acc_posts_likes = {}                                                                    #dictionary stores likes on top 10 posts of top 5 handles\n",
    "    for i in handle_list:\n",
    "        search(i)                                                                           #search for the handle\n",
    "        acc_posts_likes[i] = []\n",
    "        post = wait.until(EC.presence_of_element_located((By.CLASS_NAME,'_9AhH0'))).click() #click on first post\n",
    "        for j in range(num_of_posts):\n",
    "            time.sleep(1)\n",
    "            likes_section = wait.until(EC.presence_of_element_located((By.XPATH,'//section[@class=\"EDfFK ygqzn\"]'))) #get the likes section\n",
    "            try:                                                                            #check whether the post is a video or not as the tags inside the like section differ accordingly\n",
    "                non_video = likes_section.find_element_by_xpath('.//div[@class=\"Nm9Fw\"]')   #get the tag for the enclosing div of the likes\n",
    "                a_tag = non_video.find_elements_by_xpath('.//a')                            #check if there are names in the likes e.g. liked by some_username and 150 others\n",
    "                likes = int(non_video.find_element_by_xpath('.//button/span').text.replace(',','')) #get the number of likes by replacing the commas with empty string\n",
    "                if a_tag:\n",
    "                    likes+=len(a_tag)                                                       #add the number of names in the likes part to the number of likes obtained\n",
    "            except NoSuchElementException:                                                  #exception when the post is a video and the tags are different\n",
    "                video = likes_section.find_element_by_xpath('.//span[@class=\"vcOH2\"]')      #get the tag with likes\n",
    "                video.click()                                                               #click on the views that opens up a small box that shows the number of likes on that post\n",
    "                time.sleep(1)\n",
    "                likes = int(video.find_element_by_xpath('//div[@class=\"vJRqr\"]/span').text.replace(',','')) #get the number of likes from that box\n",
    "                close_likes = driver.find_element_by_tag_name('body')                       #close that likes box that opens up by clicking anywhere on the page\n",
    "                close_likes.click()\n",
    "            acc_posts_likes[i].append(('post '+str(j+1), likes))                            #append post number and number of likes as a tuple\n",
    "            next_btn = wait.until(EC.element_to_be_clickable((By.CLASS_NAME,'coreSpriteRightPaginationArrow'))) #get the web element of the next button\n",
    "            next_btn.click()                                                                #click on the next button\n",
    "        cross = driver.find_element_by_xpath('//div[@class=\"                    Igw0E     IwRSH      eGOV_         _4EzTm                                                                                  BI4qX            qJPeX            fm1AK   TxciK yiMZG\"]')\n",
    "        cross.click()                                                                       #find the web element of the cross button and click it after the loop terminates\n",
    "    go_to_home()                                                                            #call the go_to_home function and return to the home page\n",
    "    return acc_posts_likes"
   ]
  },
  {
   "cell_type": "markdown",
   "metadata": {},
   "source": [
    "### 3.1 Find out the likes of the top 10 posts of the 5 handles obtained earlier."
   ]
  },
  {
   "cell_type": "code",
   "execution_count": 37,
   "metadata": {},
   "outputs": [
    {
     "name": "stdout",
     "output_type": "stream",
     "text": [
      "foodnetwork [('post 1', 962), ('post 2', 16892), ('post 3', 7206), ('post 4', 25761), ('post 5', 9021), ('post 6', 49304), ('post 7', 19141), ('post 8', 10492), ('post 9', 7247), ('post 10', 25186)]\n",
      "\n",
      "buzzfeedfood [('post 1', 5811), ('post 2', 3948), ('post 3', 5340), ('post 4', 12841), ('post 5', 6211), ('post 6', 4110), ('post 7', 7073), ('post 8', 3096), ('post 9', 5341), ('post 10', 8054)]\n",
      "\n",
      "foodgod [('post 1', 15886), ('post 2', 33599), ('post 3', 8335), ('post 4', 11097), ('post 5', 22684), ('post 6', 36719), ('post 7', 5917), ('post 8', 22302), ('post 9', 40680), ('post 10', 8001)]\n",
      "\n",
      "yourfoodlab [('post 1', 9153), ('post 2', 5172), ('post 3', 9813), ('post 4', 17713), ('post 5', 12915), ('post 6', 32856), ('post 7', 40020), ('post 8', 26672), ('post 9', 34608), ('post 10', 29221)]\n",
      "\n",
      "foodtalkindia [('post 1', 363), ('post 2', 2455), ('post 3', 974), ('post 4', 709), ('post 5', 1033), ('post 6', 257), ('post 7', 808), ('post 8', 135), ('post 9', 648), ('post 10', 767)]\n",
      "\n"
     ]
    }
   ],
   "source": [
    "top_5_acc_posts_likes = likes_of_posts(acc_list,10)                                    #call the likes_of_posts function and pass the 5 handles as list and 10 as the number of posts whose likes have to be fetched\n",
    "for x,y in top_5_acc_posts_likes.items():                                              #for the items in the dictionary having usernames as keys and num of posts with likes as values\n",
    "    print(x,y)                                                                         #print username and likes list with post number\n",
    "    print()"
   ]
  },
  {
   "cell_type": "markdown",
   "metadata": {},
   "source": [
    "### 3.2 Calculate the average likes for a handle"
   ]
  },
  {
   "cell_type": "code",
   "execution_count": 38,
   "metadata": {},
   "outputs": [
    {
     "name": "stdout",
     "output_type": "stream",
     "text": [
      "foodnetwork 17121.2\n",
      "buzzfeedfood 6182.5\n",
      "foodgod 20522.0\n",
      "yourfoodlab 21814.3\n",
      "foodtalkindia 814.9\n"
     ]
    }
   ],
   "source": [
    "avg_likes_of_handles = {}                                                #dictionary stores the usernames and average likes on top 10 posts\n",
    "for x,y in top_5_acc_posts_likes.items():\n",
    "    avg_likes_of_handles[x] = 0\n",
    "    s = 0                                                                #initialise the count variable\n",
    "    for i,j in y:\n",
    "        s+=j                                                             #add the number of likes of top 10 posts for ceratin username\n",
    "    avg_likes_of_handles[x] = s/10                                       #get the average and store it as value for the username key\n",
    "for x,y in avg_likes_of_handles.items():\n",
    "    print(x,y)                                                           #print usernames and average likes on top 10 posts"
   ]
  },
  {
   "cell_type": "markdown",
   "metadata": {},
   "source": [
    "### 3.3 Divide the average likes obtained from the number of followers of the handle to get the average followers:like ratio of each handle."
   ]
  },
  {
   "cell_type": "code",
   "execution_count": 39,
   "metadata": {},
   "outputs": [
    {
     "name": "stdout",
     "output_type": "stream",
     "text": [
      "601.6131462747938\n",
      "603.3344116457744\n",
      "175.06505213916773\n",
      "58.494015393572106\n",
      "365.87679469873603\n"
     ]
    }
   ],
   "source": [
    "followers = [y for x,y in top_5_handles_and_followers]                              #get the number of followers of the top 5 handles\n",
    "like_follower_ratio = []\n",
    "for i in range(len(avg_likes_of_handles)):\n",
    "    print(followers[i]/list(avg_likes_of_handles.values())[i])                      #get the ratio of likes to followers\n",
    "    like_follower_ratio.append(followers[i]/list(avg_likes_of_handles.values())[i]) #append the ratio to a list"
   ]
  },
  {
   "cell_type": "markdown",
   "metadata": {},
   "source": [
    "### 3.4 Create a bar graph to depict the above obtained information."
   ]
  },
  {
   "cell_type": "code",
   "execution_count": 40,
   "metadata": {},
   "outputs": [
    {
     "data": {
      "image/png": "[encoded data removed]",
      "text/plain": [
       "<Figure size 576x360 with 1 Axes>"
      ]
     },
     "metadata": {
      "needs_background": "light"
     },
     "output_type": "display_data"
    }
   ],
   "source": [
    "colors = plt.get_cmap('Spectral_r')(np.linspace(0, 1, 10))\n",
    "plt.subplots(figsize=(8,5))                                                                         #size of the graph\n",
    "bar = plt.bar(list(avg_likes_of_handles.keys()),like_follower_ratio,color = colors,edgecolor = 'black') #bar graph\n",
    "plt.xlabel('Account Handles',fontsize = 12)                                                         #x label\n",
    "plt.ylabel('Like vs Followers ratio',fontsize = 12)                                                 #y label\n",
    "plt.title('Handle vs Like Followers Ratio',fontsize = 15)                                           #title of the graph\n",
    "plt.show()                                                                                          #show the graph"
   ]
  },
  {
   "cell_type": "code",
   "execution_count": 41,
   "metadata": {},
   "outputs": [],
   "source": [
    "driver.quit()                                                                       #close the web browser window"
   ]
  }
 ],
 "metadata": {
  "kernelspec": {
   "display_name": "Python 3",
   "language": "python",
   "name": "python3"
  },
  "language_info": {
   "codemirror_mode": {
    "name": "ipython",
    "version": 3
   },
   "file_extension": ".py",
   "mimetype": "text/x-python",
   "name": "python",
   "nbconvert_exporter": "python",
   "pygments_lexer": "ipython3",
   "version": "3.8.3"
  }
 },
 "nbformat": 4,
 "nbformat_minor": 4
}
